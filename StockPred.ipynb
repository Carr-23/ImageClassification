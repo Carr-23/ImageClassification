{
  "nbformat": 4,
  "nbformat_minor": 0,
  "metadata": {
    "colab": {
      "name": "StockPred.ipynb",
      "provenance": [],
      "authorship_tag": "ABX9TyPA20wa73x1tw2YMUjafBbT",
      "include_colab_link": true
    },
    "kernelspec": {
      "name": "python3",
      "display_name": "Python 3"
    }
  },
  "cells": [
    {
      "cell_type": "markdown",
      "metadata": {
        "id": "view-in-github",
        "colab_type": "text"
      },
      "source": [
        "<a href=\"https://colab.research.google.com/github/Carr-23/StockPred/blob/master/StockPred.ipynb\" target=\"_parent\"><img src=\"https://colab.research.google.com/assets/colab-badge.svg\" alt=\"Open In Colab\"/></a>"
      ]
    },
    {
      "cell_type": "code",
      "metadata": {
        "id": "UJUJdzjMxNq1",
        "colab_type": "code",
        "colab": {}
      },
      "source": [
        "!pip install yahoofinancials\n",
        "!pip install yfinance"
      ],
      "execution_count": null,
      "outputs": []
    },
    {
      "cell_type": "code",
      "metadata": {
        "id": "_CLnHQN8FW35",
        "colab_type": "code",
        "colab": {}
      },
      "source": [
        "import numpy as np\n",
        "from yahoofinancials import YahooFinancials\n",
        "import yfinance as yf\n",
        "import pandas as pd"
      ],
      "execution_count": 2,
      "outputs": []
    },
    {
      "cell_type": "code",
      "metadata": {
        "id": "wpiEnCpYJ98M",
        "colab_type": "code",
        "colab": {
          "base_uri": "https://localhost:8080/",
          "height": 772
        },
        "outputId": "e6919cb3-3007-4307-f8a3-2cb01556d02b"
      },
      "source": [
        "amd_stock = yf.Ticker('AMD')\n",
        "amd_historyAll = amd_stock.history(period=\"max\")\n",
        "amd_historyYearly = amd_stock.history(period=\"1yr\")\n",
        "amd_historyBimonthly = amd_stock.history(period=\"6mo\")\n",
        "amd_historyMonthly = amd_stock.history(period=\"1mo\")\n",
        "amd_historyWeekly = amd_stock.history(period=\"5d\")\n",
        "\n",
        "print(amd_history)\n",
        "\n",
        "amd_history['Close'].plot(title=\"AMD Stock Price\")\n"
      ],
      "execution_count": 31,
      "outputs": [
        {
          "output_type": "stream",
          "text": [
            "             Open   High    Low  Close     Volume  Dividends  Stock Splits\n",
            "Date                                                                      \n",
            "2020-07-08  53.01  53.47  52.07  53.43   35608300          0             0\n",
            "2020-07-09  53.52  57.58  53.31  57.26   87216300          0             0\n",
            "2020-07-10  57.54  58.15  55.51  55.88   59839700          0             0\n",
            "2020-07-13  56.68  58.35  53.38  53.59   57741800          0             0\n",
            "2020-07-14  53.30  54.86  52.26  54.72   54890100          0             0\n",
            "2020-07-15  54.96  55.37  53.59  55.34   42360300          0             0\n",
            "2020-07-16  54.68  55.15  53.74  54.92   36887100          0             0\n",
            "2020-07-17  55.31  55.81  54.68  55.04   34710400          0             0\n",
            "2020-07-20  55.23  57.53  54.83  57.46   45034300          0             0\n",
            "2020-07-21  57.81  58.50  56.32  57.00   44800700          0             0\n",
            "2020-07-22  57.07  62.00  56.97  61.79  135159400          0             0\n",
            "2020-07-23  61.63  62.33  58.63  59.57  106829100          0             0\n",
            "2020-07-24  64.18  69.94  64.05  69.40  205314500          0             0\n",
            "2020-07-27  69.28  71.63  67.79  68.97  107918100          0             0\n",
            "2020-07-28  68.10  69.80  67.02  67.61   94181400          0             0\n",
            "2020-07-29  75.50  77.19  73.90  76.09  132969700          0             0\n",
            "2020-07-30  75.37  78.96  75.07  78.20   80286900          0             0\n",
            "2020-07-31  78.67  78.96  75.36  77.43   71699700          0             0\n",
            "2020-08-03  78.19  78.50  77.06  77.67   42628800          0             0\n",
            "2020-08-04  78.03  85.81  77.99  85.04  155676100          0             0\n",
            "2020-08-05  84.96  86.32  83.32  85.31   65737300          0             0\n",
            "2020-08-06  85.49  86.98  84.78  86.71   53961700          0             0\n",
            "2020-08-07  86.67  87.29  82.67  84.85   66498000          0             0\n"
          ],
          "name": "stdout"
        },
        {
          "output_type": "execute_result",
          "data": {
            "text/plain": [
              "<matplotlib.axes._subplots.AxesSubplot at 0x7f01fea41320>"
            ]
          },
          "metadata": {
            "tags": []
          },
          "execution_count": 31
        },
        {
          "output_type": "display_data",
          "data": {
            "image/png": "[encoded data removed]",
            "text/plain": [
              "<Figure size 432x288 with 1 Axes>"
            ]
          },
          "metadata": {
            "tags": [],
            "needs_background": "light"
          }
        }
      ]
    }
  ]
}