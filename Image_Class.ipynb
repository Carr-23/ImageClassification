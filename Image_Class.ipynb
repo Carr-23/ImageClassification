{
  "nbformat": 4,
  "nbformat_minor": 0,
  "metadata": {
    "colab": {
      "name": "Image Class",
      "provenance": [],
      "collapsed_sections": [],
      "authorship_tag": "ABX9TyNP3bxu6TH1FPU4/VgRhAAi",
      "include_colab_link": true
    },
    "kernelspec": {
      "name": "python3",
      "display_name": "Python 3"
    },
    "language_info": {
      "name": "python"
    },
    "accelerator": "TPU"
  },
  "cells": [
    {
      "cell_type": "markdown",
      "metadata": {
        "id": "view-in-github",
        "colab_type": "text"
      },
      "source": [
        "<a href=\"https://colab.research.google.com/github/Carr-23/ImageClassification/blob/master/Image_Class.ipynb\" target=\"_parent\"><img src=\"https://colab.research.google.com/assets/colab-badge.svg\" alt=\"Open In Colab\"/></a>"
      ]
    },
    {
      "cell_type": "code",
      "metadata": {
        "id": "jI8QFLGKKvKH"
      },
      "source": [
        "import tensorflow as tf\n",
        "from tensorflow.keras import Sequential\n",
        "from tensorflow.keras.layers import Flatten, Dense, Conv2D, MaxPool2D, Dropout\n",
        "\n",
        "import numpy\n",
        "import matplotlib.pyplot as plt\n",
        "import matplotlib\n",
        "\n",
        "from tensorflow.keras.datasets import cifar10"
      ],
      "execution_count": null,
      "outputs": []
    },
    {
      "cell_type": "code",
      "metadata": {
        "id": "pFGcCQImK7Nw",
        "colab": {
          "base_uri": "https://localhost:8080/"
        },
        "outputId": "4551248a-ca62-4702-efee-bb088bf8e857"
      },
      "source": [
        "(xTrain, yTrain), (xTest, yTest) =cifar10.load_data()"
      ],
      "execution_count": null,
      "outputs": [
        {
          "output_type": "stream",
          "text": [
            "Downloading data from https://www.cs.toronto.edu/~kriz/cifar-10-python.tar.gz\n",
            "170500096/170498071 [==============================] - 4s 0us/step\n"
          ],
          "name": "stdout"
        }
      ]
    },
    {
      "cell_type": "code",
      "metadata": {
        "id": "HQRQGwxVLbyk"
      },
      "source": [
        "cifar10DataSet = [\n",
        "                  'airplane',\n",
        "                  'automobile',\n",
        "                  'bird',\n",
        "                  'cat',\n",
        "                  'deer',\n",
        "                  'dog',\n",
        "                  'frog',\n",
        "                  'horse',\n",
        "                  'ship',\n",
        "                  'truck'\n",
        "]"
      ],
      "execution_count": null,
      "outputs": []
    },
    {
      "cell_type": "code",
      "metadata": {
        "colab": {
          "base_uri": "https://localhost:8080/"
        },
        "id": "HFqP-3vIL_Bg",
        "outputId": "11ded8fd-016c-43ee-a92f-b112c690c219"
      },
      "source": [
        "xTrain.max()"
      ],
      "execution_count": null,
      "outputs": [
        {
          "output_type": "execute_result",
          "data": {
            "text/plain": [
              "255"
            ]
          },
          "metadata": {
            "tags": []
          },
          "execution_count": 5
        }
      ]
    },
    {
      "cell_type": "code",
      "metadata": {
        "colab": {
          "base_uri": "https://localhost:8080/"
        },
        "id": "JUEaSHlOL_EW",
        "outputId": "32e51346-ab8a-4b6c-b9e9-901977782f75"
      },
      "source": [
        "xTrain.shape"
      ],
      "execution_count": null,
      "outputs": [
        {
          "output_type": "execute_result",
          "data": {
            "text/plain": [
              "(50000, 32, 32, 3)"
            ]
          },
          "metadata": {
            "tags": []
          },
          "execution_count": 6
        }
      ]
    },
    {
      "cell_type": "code",
      "metadata": {
        "id": "zdj3SE-9L_GQ"
      },
      "source": [
        "xTrain = xTrain/255.0\n",
        "xTest = xTest/255.0"
      ],
      "execution_count": null,
      "outputs": []
    },
    {
      "cell_type": "code",
      "metadata": {
        "colab": {
          "base_uri": "https://localhost:8080/"
        },
        "id": "nQ_Sp7V75CJR",
        "outputId": "48b1e4ad-b43e-4ff5-badd-d17d557b4fb2"
      },
      "source": [
        "printt(xTrain)"
      ],
      "execution_count": null,
      "outputs": [
        {
          "output_type": "stream",
          "text": [
            "[[[[0.23137255 0.24313725 0.24705882]\n",
            "   [0.16862745 0.18039216 0.17647059]\n",
            "   [0.19607843 0.18823529 0.16862745]\n",
            "   ...\n",
            "   [0.61960784 0.51764706 0.42352941]\n",
            "   [0.59607843 0.49019608 0.4       ]\n",
            "   [0.58039216 0.48627451 0.40392157]]\n",
            "\n",
            "  [[0.0627451  0.07843137 0.07843137]\n",
            "   [0.         0.         0.        ]\n",
            "   [0.07058824 0.03137255 0.        ]\n",
            "   ...\n",
            "   [0.48235294 0.34509804 0.21568627]\n",
            "   [0.46666667 0.3254902  0.19607843]\n",
            "   [0.47843137 0.34117647 0.22352941]]\n",
            "\n",
            "  [[0.09803922 0.09411765 0.08235294]\n",
            "   [0.0627451  0.02745098 0.        ]\n",
            "   [0.19215686 0.10588235 0.03137255]\n",
            "   ...\n",
            "   [0.4627451  0.32941176 0.19607843]\n",
            "   [0.47058824 0.32941176 0.19607843]\n",
            "   [0.42745098 0.28627451 0.16470588]]\n",
            "\n",
            "  ...\n",
            "\n",
            "  [[0.81568627 0.66666667 0.37647059]\n",
            "   [0.78823529 0.6        0.13333333]\n",
            "   [0.77647059 0.63137255 0.10196078]\n",
            "   ...\n",
            "   [0.62745098 0.52156863 0.2745098 ]\n",
            "   [0.21960784 0.12156863 0.02745098]\n",
            "   [0.20784314 0.13333333 0.07843137]]\n",
            "\n",
            "  [[0.70588235 0.54509804 0.37647059]\n",
            "   [0.67843137 0.48235294 0.16470588]\n",
            "   [0.72941176 0.56470588 0.11764706]\n",
            "   ...\n",
            "   [0.72156863 0.58039216 0.36862745]\n",
            "   [0.38039216 0.24313725 0.13333333]\n",
            "   [0.3254902  0.20784314 0.13333333]]\n",
            "\n",
            "  [[0.69411765 0.56470588 0.45490196]\n",
            "   [0.65882353 0.50588235 0.36862745]\n",
            "   [0.70196078 0.55686275 0.34117647]\n",
            "   ...\n",
            "   [0.84705882 0.72156863 0.54901961]\n",
            "   [0.59215686 0.4627451  0.32941176]\n",
            "   [0.48235294 0.36078431 0.28235294]]]\n",
            "\n",
            "\n",
            " [[[0.60392157 0.69411765 0.73333333]\n",
            "   [0.49411765 0.5372549  0.53333333]\n",
            "   [0.41176471 0.40784314 0.37254902]\n",
            "   ...\n",
            "   [0.35686275 0.37254902 0.27843137]\n",
            "   [0.34117647 0.35294118 0.27843137]\n",
            "   [0.30980392 0.31764706 0.2745098 ]]\n",
            "\n",
            "  [[0.54901961 0.62745098 0.6627451 ]\n",
            "   [0.56862745 0.6        0.60392157]\n",
            "   [0.49019608 0.49019608 0.4627451 ]\n",
            "   ...\n",
            "   [0.37647059 0.38823529 0.30588235]\n",
            "   [0.30196078 0.31372549 0.24313725]\n",
            "   [0.27843137 0.28627451 0.23921569]]\n",
            "\n",
            "  [[0.54901961 0.60784314 0.64313725]\n",
            "   [0.54509804 0.57254902 0.58431373]\n",
            "   [0.45098039 0.45098039 0.43921569]\n",
            "   ...\n",
            "   [0.30980392 0.32156863 0.25098039]\n",
            "   [0.26666667 0.2745098  0.21568627]\n",
            "   [0.2627451  0.27058824 0.21568627]]\n",
            "\n",
            "  ...\n",
            "\n",
            "  [[0.68627451 0.65490196 0.65098039]\n",
            "   [0.61176471 0.60392157 0.62745098]\n",
            "   [0.60392157 0.62745098 0.66666667]\n",
            "   ...\n",
            "   [0.16470588 0.13333333 0.14117647]\n",
            "   [0.23921569 0.20784314 0.22352941]\n",
            "   [0.36470588 0.3254902  0.35686275]]\n",
            "\n",
            "  [[0.64705882 0.60392157 0.50196078]\n",
            "   [0.61176471 0.59607843 0.50980392]\n",
            "   [0.62352941 0.63137255 0.55686275]\n",
            "   ...\n",
            "   [0.40392157 0.36470588 0.37647059]\n",
            "   [0.48235294 0.44705882 0.47058824]\n",
            "   [0.51372549 0.4745098  0.51372549]]\n",
            "\n",
            "  [[0.63921569 0.58039216 0.47058824]\n",
            "   [0.61960784 0.58039216 0.47843137]\n",
            "   [0.63921569 0.61176471 0.52156863]\n",
            "   ...\n",
            "   [0.56078431 0.52156863 0.54509804]\n",
            "   [0.56078431 0.5254902  0.55686275]\n",
            "   [0.56078431 0.52156863 0.56470588]]]\n",
            "\n",
            "\n",
            " [[[1.         1.         1.        ]\n",
            "   [0.99215686 0.99215686 0.99215686]\n",
            "   [0.99215686 0.99215686 0.99215686]\n",
            "   ...\n",
            "   [0.99215686 0.99215686 0.99215686]\n",
            "   [0.99215686 0.99215686 0.99215686]\n",
            "   [0.99215686 0.99215686 0.99215686]]\n",
            "\n",
            "  [[1.         1.         1.        ]\n",
            "   [1.         1.         1.        ]\n",
            "   [1.         1.         1.        ]\n",
            "   ...\n",
            "   [1.         1.         1.        ]\n",
            "   [1.         1.         1.        ]\n",
            "   [1.         1.         1.        ]]\n",
            "\n",
            "  [[1.         1.         1.        ]\n",
            "   [0.99607843 0.99607843 0.99607843]\n",
            "   [0.99607843 0.99607843 0.99607843]\n",
            "   ...\n",
            "   [0.99607843 0.99607843 0.99607843]\n",
            "   [0.99607843 0.99607843 0.99607843]\n",
            "   [0.99607843 0.99607843 0.99607843]]\n",
            "\n",
            "  ...\n",
            "\n",
            "  [[0.44313725 0.47058824 0.43921569]\n",
            "   [0.43529412 0.4627451  0.43529412]\n",
            "   [0.41176471 0.43921569 0.41568627]\n",
            "   ...\n",
            "   [0.28235294 0.31764706 0.31372549]\n",
            "   [0.28235294 0.31372549 0.30980392]\n",
            "   [0.28235294 0.31372549 0.30980392]]\n",
            "\n",
            "  [[0.43529412 0.4627451  0.43137255]\n",
            "   [0.40784314 0.43529412 0.40784314]\n",
            "   [0.38823529 0.41568627 0.38431373]\n",
            "   ...\n",
            "   [0.26666667 0.29411765 0.28627451]\n",
            "   [0.2745098  0.29803922 0.29411765]\n",
            "   [0.30588235 0.32941176 0.32156863]]\n",
            "\n",
            "  [[0.41568627 0.44313725 0.41176471]\n",
            "   [0.38823529 0.41568627 0.38431373]\n",
            "   [0.37254902 0.4        0.36862745]\n",
            "   ...\n",
            "   [0.30588235 0.33333333 0.3254902 ]\n",
            "   [0.30980392 0.33333333 0.3254902 ]\n",
            "   [0.31372549 0.3372549  0.32941176]]]\n",
            "\n",
            "\n",
            " ...\n",
            "\n",
            "\n",
            " [[[0.1372549  0.69803922 0.92156863]\n",
            "   [0.15686275 0.69019608 0.9372549 ]\n",
            "   [0.16470588 0.69019608 0.94509804]\n",
            "   ...\n",
            "   [0.38823529 0.69411765 0.85882353]\n",
            "   [0.30980392 0.57647059 0.77254902]\n",
            "   [0.34901961 0.58039216 0.74117647]]\n",
            "\n",
            "  [[0.22352941 0.71372549 0.91764706]\n",
            "   [0.17254902 0.72156863 0.98039216]\n",
            "   [0.19607843 0.71764706 0.94117647]\n",
            "   ...\n",
            "   [0.61176471 0.71372549 0.78431373]\n",
            "   [0.55294118 0.69411765 0.80784314]\n",
            "   [0.45490196 0.58431373 0.68627451]]\n",
            "\n",
            "  [[0.38431373 0.77254902 0.92941176]\n",
            "   [0.25098039 0.74117647 0.98823529]\n",
            "   [0.27058824 0.75294118 0.96078431]\n",
            "   ...\n",
            "   [0.7372549  0.76470588 0.80784314]\n",
            "   [0.46666667 0.52941176 0.57647059]\n",
            "   [0.23921569 0.30980392 0.35294118]]\n",
            "\n",
            "  ...\n",
            "\n",
            "  [[0.28627451 0.30980392 0.30196078]\n",
            "   [0.20784314 0.24705882 0.26666667]\n",
            "   [0.21176471 0.26666667 0.31372549]\n",
            "   ...\n",
            "   [0.06666667 0.15686275 0.25098039]\n",
            "   [0.08235294 0.14117647 0.2       ]\n",
            "   [0.12941176 0.18823529 0.19215686]]\n",
            "\n",
            "  [[0.23921569 0.26666667 0.29411765]\n",
            "   [0.21568627 0.2745098  0.3372549 ]\n",
            "   [0.22352941 0.30980392 0.40392157]\n",
            "   ...\n",
            "   [0.09411765 0.18823529 0.28235294]\n",
            "   [0.06666667 0.1372549  0.20784314]\n",
            "   [0.02745098 0.09019608 0.1254902 ]]\n",
            "\n",
            "  [[0.17254902 0.21960784 0.28627451]\n",
            "   [0.18039216 0.25882353 0.34509804]\n",
            "   [0.19215686 0.30196078 0.41176471]\n",
            "   ...\n",
            "   [0.10588235 0.20392157 0.30196078]\n",
            "   [0.08235294 0.16862745 0.25882353]\n",
            "   [0.04705882 0.12156863 0.19607843]]]\n",
            "\n",
            "\n",
            " [[[0.74117647 0.82745098 0.94117647]\n",
            "   [0.72941176 0.81568627 0.9254902 ]\n",
            "   [0.7254902  0.81176471 0.92156863]\n",
            "   ...\n",
            "   [0.68627451 0.76470588 0.87843137]\n",
            "   [0.6745098  0.76078431 0.87058824]\n",
            "   [0.6627451  0.76078431 0.8627451 ]]\n",
            "\n",
            "  [[0.76078431 0.82352941 0.9372549 ]\n",
            "   [0.74901961 0.81176471 0.9254902 ]\n",
            "   [0.74509804 0.80784314 0.92156863]\n",
            "   ...\n",
            "   [0.67843137 0.75294118 0.8627451 ]\n",
            "   [0.67058824 0.74901961 0.85490196]\n",
            "   [0.65490196 0.74509804 0.84705882]]\n",
            "\n",
            "  [[0.81568627 0.85882353 0.95686275]\n",
            "   [0.80392157 0.84705882 0.94117647]\n",
            "   [0.8        0.84313725 0.9372549 ]\n",
            "   ...\n",
            "   [0.68627451 0.74901961 0.85098039]\n",
            "   [0.6745098  0.74509804 0.84705882]\n",
            "   [0.6627451  0.74901961 0.84313725]]\n",
            "\n",
            "  ...\n",
            "\n",
            "  [[0.81176471 0.78039216 0.70980392]\n",
            "   [0.79607843 0.76470588 0.68627451]\n",
            "   [0.79607843 0.76862745 0.67843137]\n",
            "   ...\n",
            "   [0.52941176 0.51764706 0.49803922]\n",
            "   [0.63529412 0.61960784 0.58823529]\n",
            "   [0.65882353 0.63921569 0.59215686]]\n",
            "\n",
            "  [[0.77647059 0.74509804 0.66666667]\n",
            "   [0.74117647 0.70980392 0.62352941]\n",
            "   [0.70588235 0.6745098  0.57647059]\n",
            "   ...\n",
            "   [0.69803922 0.67058824 0.62745098]\n",
            "   [0.68627451 0.6627451  0.61176471]\n",
            "   [0.68627451 0.6627451  0.60392157]]\n",
            "\n",
            "  [[0.77647059 0.74117647 0.67843137]\n",
            "   [0.74117647 0.70980392 0.63529412]\n",
            "   [0.69803922 0.66666667 0.58431373]\n",
            "   ...\n",
            "   [0.76470588 0.72156863 0.6627451 ]\n",
            "   [0.76862745 0.74117647 0.67058824]\n",
            "   [0.76470588 0.74509804 0.67058824]]]\n",
            "\n",
            "\n",
            " [[[0.89803922 0.89803922 0.9372549 ]\n",
            "   [0.9254902  0.92941176 0.96862745]\n",
            "   [0.91764706 0.9254902  0.96862745]\n",
            "   ...\n",
            "   [0.85098039 0.85882353 0.91372549]\n",
            "   [0.86666667 0.8745098  0.91764706]\n",
            "   [0.87058824 0.8745098  0.91372549]]\n",
            "\n",
            "  [[0.87058824 0.86666667 0.89803922]\n",
            "   [0.9372549  0.9372549  0.97647059]\n",
            "   [0.91372549 0.91764706 0.96470588]\n",
            "   ...\n",
            "   [0.8745098  0.8745098  0.9254902 ]\n",
            "   [0.89019608 0.89411765 0.93333333]\n",
            "   [0.82352941 0.82745098 0.8627451 ]]\n",
            "\n",
            "  [[0.83529412 0.80784314 0.82745098]\n",
            "   [0.91764706 0.90980392 0.9372549 ]\n",
            "   [0.90588235 0.91372549 0.95686275]\n",
            "   ...\n",
            "   [0.8627451  0.8627451  0.90980392]\n",
            "   [0.8627451  0.85882353 0.90980392]\n",
            "   [0.79215686 0.79607843 0.84313725]]\n",
            "\n",
            "  ...\n",
            "\n",
            "  [[0.58823529 0.56078431 0.52941176]\n",
            "   [0.54901961 0.52941176 0.49803922]\n",
            "   [0.51764706 0.49803922 0.47058824]\n",
            "   ...\n",
            "   [0.87843137 0.87058824 0.85490196]\n",
            "   [0.90196078 0.89411765 0.88235294]\n",
            "   [0.94509804 0.94509804 0.93333333]]\n",
            "\n",
            "  [[0.5372549  0.51764706 0.49411765]\n",
            "   [0.50980392 0.49803922 0.47058824]\n",
            "   [0.49019608 0.4745098  0.45098039]\n",
            "   ...\n",
            "   [0.70980392 0.70588235 0.69803922]\n",
            "   [0.79215686 0.78823529 0.77647059]\n",
            "   [0.83137255 0.82745098 0.81176471]]\n",
            "\n",
            "  [[0.47843137 0.46666667 0.44705882]\n",
            "   [0.4627451  0.45490196 0.43137255]\n",
            "   [0.47058824 0.45490196 0.43529412]\n",
            "   ...\n",
            "   [0.70196078 0.69411765 0.67843137]\n",
            "   [0.64313725 0.64313725 0.63529412]\n",
            "   [0.63921569 0.63921569 0.63137255]]]]\n"
          ],
          "name": "stdout"
        }
      ]
    },
    {
      "cell_type": "code",
      "metadata": {
        "colab": {
          "base_uri": "https://localhost:8080/",
          "height": 283
        },
        "id": "stNh7IQLL_Jo",
        "outputId": "15e1f154-5c92-4375-81c8-9621d1425e05"
      },
      "source": [
        "plt.imshow(xTrain[0])"
      ],
      "execution_count": null,
      "outputs": [
        {
          "output_type": "execute_result",
          "data": {
            "text/plain": [
              "<matplotlib.image.AxesImage at 0x7f5bb31859d0>"
            ]
          },
          "metadata": {
            "tags": []
          },
          "execution_count": 11
        },
        {
          "output_type": "display_data",
          "data": {
            "image/png": "[encoded data removed]",
            "text/plain": [
              "<Figure size 432x288 with 1 Axes>"
            ]
          },
          "metadata": {
            "tags": [],
            "needs_background": "light"
          }
        }
      ]
    },
    {
      "cell_type": "code",
      "metadata": {
        "id": "HTSQpX-fL_Lw"
      },
      "source": [
        "model = Sequential()"
      ],
      "execution_count": null,
      "outputs": []
    },
    {
      "cell_type": "code",
      "metadata": {
        "id": "MEHhPSeBL_Q-"
      },
      "source": [
        "#Input Layer\n",
        "model.add(Conv2D(filters=64,kernel_size=(3,3),padding='same',activation='relu',input_shape=[32,32,3]))\n",
        "\n",
        "# Conv2D create a formula\n",
        "model.add(Conv2D(filters=32,kernel_size=(3,3),padding='same',activation='relu'))\n",
        "\n",
        "# Maxpooling, to simplify image\n",
        "model.add(MaxPool2D(pool_size=(2,2),strides=2,padding='valid'))\n",
        "\n",
        "# Dropout 50% of neuron\n",
        "model.add(Dropout(0.5))\n",
        "\n",
        "# Flatten everything\n",
        "model.add(Flatten())\n",
        "\n",
        "model.add(Dense(units = 128, activation='relu'))\n",
        "\n",
        "# Output Layer\n",
        "model.add(Dense(units=10,activation='softmax'))"
      ],
      "execution_count": null,
      "outputs": []
    },
    {
      "cell_type": "code",
      "metadata": {
        "colab": {
          "base_uri": "https://localhost:8080/"
        },
        "id": "Axbn3aPSL_Tl",
        "outputId": "4aa1eba9-24e7-40a3-c072-a728d593b7ab"
      },
      "source": [
        "model.summary()"
      ],
      "execution_count": null,
      "outputs": [
        {
          "output_type": "stream",
          "text": [
            "Model: \"sequential_1\"\n",
            "_________________________________________________________________\n",
            "Layer (type)                 Output Shape              Param #   \n",
            "=================================================================\n",
            "conv2d_2 (Conv2D)            (None, 32, 32, 64)        1792      \n",
            "_________________________________________________________________\n",
            "conv2d_3 (Conv2D)            (None, 32, 32, 32)        18464     \n",
            "_________________________________________________________________\n",
            "max_pooling2d_2 (MaxPooling2 (None, 16, 16, 32)        0         \n",
            "_________________________________________________________________\n",
            "dropout_1 (Dropout)          (None, 16, 16, 32)        0         \n",
            "_________________________________________________________________\n",
            "flatten_1 (Flatten)          (None, 8192)              0         \n",
            "_________________________________________________________________\n",
            "dense_2 (Dense)              (None, 128)               1048704   \n",
            "_________________________________________________________________\n",
            "dense_3 (Dense)              (None, 10)                1290      \n",
            "=================================================================\n",
            "Total params: 1,070,250\n",
            "Trainable params: 1,070,250\n",
            "Non-trainable params: 0\n",
            "_________________________________________________________________\n"
          ],
          "name": "stdout"
        }
      ]
    },
    {
      "cell_type": "code",
      "metadata": {
        "id": "5o2zbgsWL_Vw"
      },
      "source": [
        "model.compile(optimizer='adam',loss='sparse_categorical_crossentropy',metrics=['sparse_categorical_accuracy'])"
      ],
      "execution_count": null,
      "outputs": []
    },
    {
      "cell_type": "code",
      "metadata": {
        "colab": {
          "base_uri": "https://localhost:8080/"
        },
        "id": "TZmVD7fLL_X3",
        "outputId": "52fac140-9e05-4944-bde7-1f8f13e9cafe"
      },
      "source": [
        "history = model.fit(xTrain,yTrain,batch_size=10,epochs=10,verbose=1,validation_data=(xTest,yTest))"
      ],
      "execution_count": null,
      "outputs": [
        {
          "output_type": "stream",
          "text": [
            "Epoch 1/10\n",
            "5000/5000 [==============================] - 226s 45ms/step - loss: 1.6521 - sparse_categorical_accuracy: 0.3980 - val_loss: 1.2296 - val_sparse_categorical_accuracy: 0.5552\n",
            "Epoch 2/10\n",
            "5000/5000 [==============================] - 223s 45ms/step - loss: 1.1668 - sparse_categorical_accuracy: 0.5839 - val_loss: 1.0370 - val_sparse_categorical_accuracy: 0.6303\n",
            "Epoch 3/10\n",
            "5000/5000 [==============================] - 222s 44ms/step - loss: 1.0316 - sparse_categorical_accuracy: 0.6351 - val_loss: 1.0476 - val_sparse_categorical_accuracy: 0.6313\n",
            "Epoch 4/10\n",
            "5000/5000 [==============================] - 222s 44ms/step - loss: 0.9404 - sparse_categorical_accuracy: 0.6654 - val_loss: 0.9597 - val_sparse_categorical_accuracy: 0.6579\n",
            "Epoch 5/10\n",
            "5000/5000 [==============================] - 224s 45ms/step - loss: 0.8684 - sparse_categorical_accuracy: 0.6907 - val_loss: 0.9179 - val_sparse_categorical_accuracy: 0.6744\n",
            "Epoch 6/10\n",
            "5000/5000 [==============================] - 224s 45ms/step - loss: 0.8159 - sparse_categorical_accuracy: 0.7099 - val_loss: 0.9069 - val_sparse_categorical_accuracy: 0.6862\n",
            "Epoch 7/10\n",
            "5000/5000 [==============================] - 223s 45ms/step - loss: 0.7765 - sparse_categorical_accuracy: 0.7238 - val_loss: 0.8969 - val_sparse_categorical_accuracy: 0.6874\n",
            "Epoch 8/10\n",
            "5000/5000 [==============================] - 224s 45ms/step - loss: 0.7336 - sparse_categorical_accuracy: 0.7369 - val_loss: 0.8809 - val_sparse_categorical_accuracy: 0.6978\n",
            "Epoch 9/10\n",
            "5000/5000 [==============================] - 224s 45ms/step - loss: 0.6950 - sparse_categorical_accuracy: 0.7528 - val_loss: 0.8999 - val_sparse_categorical_accuracy: 0.6920\n",
            "Epoch 10/10\n",
            "5000/5000 [==============================] - 225s 45ms/step - loss: 0.6681 - sparse_categorical_accuracy: 0.7644 - val_loss: 0.9210 - val_sparse_categorical_accuracy: 0.6891\n"
          ],
          "name": "stdout"
        }
      ]
    },
    {
      "cell_type": "code",
      "metadata": {
        "colab": {
          "base_uri": "https://localhost:8080/",
          "height": 295
        },
        "id": "qE5_o2_PYAoN",
        "outputId": "76c10497-1424-4530-fc48-65180f48643a"
      },
      "source": [
        "# Plot Training & Validation Accuracy Values\n",
        "epoch_range = range(1,11)\n",
        "plt.plot(epoch_range,history.history['sparse_categorical_accuracy'])\n",
        "plt.plot(epoch_range,history.history['val_sparse_categorical_accuracy'])\n",
        "plt.title('Model Accuracy')\n",
        "plt.ylabel('Accuracy')\n",
        "plt.xlabel('Epoch')\n",
        "plt.legend(['Train','Val'],loc='upper left')\n",
        "plt.show()"
      ],
      "execution_count": null,
      "outputs": [
        {
          "output_type": "display_data",
          "data": {
            "image/png": "[encoded data removed]",
            "text/plain": [
              "<Figure size 432x288 with 1 Axes>"
            ]
          },
          "metadata": {
            "tags": [],
            "needs_background": "light"
          }
        }
      ]
    },
    {
      "cell_type": "code",
      "metadata": {
        "id": "gTfvhQ-ZYAwy"
      },
      "source": [
        "from sklearn.metrics import accuracy_score"
      ],
      "execution_count": null,
      "outputs": []
    },
    {
      "cell_type": "code",
      "metadata": {
        "colab": {
          "base_uri": "https://localhost:8080/"
        },
        "id": "OFEq7RnxYA3m",
        "outputId": "0d190c09-dca0-46a7-e26e-900eec528b2f"
      },
      "source": [
        "yPred = model.predict_classes(xTest)"
      ],
      "execution_count": null,
      "outputs": [
        {
          "output_type": "stream",
          "text": [
            "/usr/local/lib/python3.7/dist-packages/tensorflow/python/keras/engine/sequential.py:450: UserWarning: `model.predict_classes()` is deprecated and will be removed after 2021-01-01. Please use instead:* `np.argmax(model.predict(x), axis=-1)`,   if your model does multi-class classification   (e.g. if it uses a `softmax` last-layer activation).* `(model.predict(x) > 0.5).astype(\"int32\")`,   if your model does binary classification   (e.g. if it uses a `sigmoid` last-layer activation).\n",
            "  warnings.warn('`model.predict_classes()` is deprecated and '\n"
          ],
          "name": "stderr"
        }
      ]
    },
    {
      "cell_type": "code",
      "metadata": {
        "colab": {
          "base_uri": "https://localhost:8080/"
        },
        "id": "IZLHscdoYA6s",
        "outputId": "1fdc4e70-07e7-49a4-950e-812f984ab0c0"
      },
      "source": [
        "accuracy_score(yTest,yPred)"
      ],
      "execution_count": null,
      "outputs": [
        {
          "output_type": "execute_result",
          "data": {
            "text/plain": [
              "0.6891"
            ]
          },
          "metadata": {
            "tags": []
          },
          "execution_count": 28
        }
      ]
    },
    {
      "cell_type": "code",
      "metadata": {
        "colab": {
          "base_uri": "https://localhost:8080/"
        },
        "id": "djwBubowlcFY",
        "outputId": "6425d316-19a4-487e-b2f3-e9aff9edf0fd"
      },
      "source": [
        "yPred[69]"
      ],
      "execution_count": null,
      "outputs": [
        {
          "output_type": "execute_result",
          "data": {
            "text/plain": [
              "7"
            ]
          },
          "metadata": {
            "tags": []
          },
          "execution_count": 30
        }
      ]
    },
    {
      "cell_type": "code",
      "metadata": {
        "colab": {
          "base_uri": "https://localhost:8080/",
          "height": 283
        },
        "id": "F-5PAGlHl-yK",
        "outputId": "c733a8d4-1d27-4ec9-c5f3-d6950b3f1668"
      },
      "source": [
        "plt.imshow(xTest[69])"
      ],
      "execution_count": null,
      "outputs": [
        {
          "output_type": "execute_result",
          "data": {
            "text/plain": [
              "<matplotlib.image.AxesImage at 0x7f5ba3687650>"
            ]
          },
          "metadata": {
            "tags": []
          },
          "execution_count": 31
        },
        {
          "output_type": "display_data",
          "data": {
            "image/png": "[encoded data removed]",
            "text/plain": [
              "<Figure size 432x288 with 1 Axes>"
            ]
          },
          "metadata": {
            "tags": [],
            "needs_background": "light"
          }
        }
      ]
    },
    {
      "cell_type": "code",
      "metadata": {
        "colab": {
          "base_uri": "https://localhost:8080/"
        },
        "id": "ZoiGobIOldVG",
        "outputId": "11c7cb6d-f2d3-457f-ca37-c5b83801b4ac"
      },
      "source": [
        "yTest[69]"
      ],
      "execution_count": null,
      "outputs": [
        {
          "output_type": "execute_result",
          "data": {
            "text/plain": [
              "array([7], dtype=uint8)"
            ]
          },
          "metadata": {
            "tags": []
          },
          "execution_count": 33
        }
      ]
    },
    {
      "cell_type": "code",
      "metadata": {
        "id": "55VcGivlldr1"
      },
      "source": [
        ""
      ],
      "execution_count": null,
      "outputs": []
    },
    {
      "cell_type": "code",
      "metadata": {
        "id": "h7VqA5ZBle8C"
      },
      "source": [
        ""
      ],
      "execution_count": null,
      "outputs": []
    }
  ]
}